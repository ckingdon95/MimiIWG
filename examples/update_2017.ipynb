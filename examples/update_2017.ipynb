{
 "cells": [
  {
   "cell_type": "markdown",
   "metadata": {},
   "source": [
    "# Run the IWG SCC Monte Carlo simulations using the 2017 updated specifications\n",
    "The update included two changes:\n",
    "- Only include domestic damages in the SCC estimates\n",
    "- Use discount rates of 3% and 7%"
   ]
  },
  {
   "cell_type": "code",
   "execution_count": 1,
   "metadata": {},
   "outputs": [],
   "source": [
    "using MimiIWG"
   ]
  },
  {
   "cell_type": "code",
   "execution_count": null,
   "metadata": {},
   "outputs": [],
   "source": [
    "N = 10_000\n",
    "updated_rates = [0.03, 0.07]\n",
    "\n",
    "MimiIWG.run_scc_mcs(DICE, gas=:CO2, trials=N, domestic=true, discount_rates=updated_rates)\n",
    "MimiIWG.run_scc_mcs(FUND, gas=:CO2, trials=N, domestic=true, discount_rates=updated_rates)\n",
    "MimiIWG.run_scc_mcs(PAGE, gas=:CO2, trials=N, domestic=true, discount_rates=updated_rates)"
   ]
  }
 ],
 "metadata": {
  "kernelspec": {
   "display_name": "Julia 1.5.3",
   "language": "julia",
   "name": "julia-1.5"
  },
  "language_info": {
   "file_extension": ".jl",
   "mimetype": "application/julia",
   "name": "julia",
   "version": "1.5.3"
  }
 },
 "nbformat": 4,
 "nbformat_minor": 4
}
