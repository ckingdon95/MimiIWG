{
 "cells": [
  {
   "cell_type": "markdown",
   "metadata": {},
   "source": [
    "# Run the IWG SCC Monte Carlo simulations using the updated specifications in 2017\n",
    "The update included two changes:\n",
    "- Only include domestic damages in the SCC estimates\n",
    "- Use discount rates of 3% and 7%"
   ]
  },
  {
   "cell_type": "code",
   "execution_count": null,
   "metadata": {},
   "outputs": [],
   "source": [
    "using MimiIWG"
   ]
  },
  {
   "cell_type": "code",
   "execution_count": null,
   "metadata": {},
   "outputs": [],
   "source": [
    "N = 10000\n",
    "updated_rates = [0.03, 0.07]\n",
    "\n",
    "MimiIWG.run_scc_mcs(DICE, trials=N, domestic=true, discount_rates=updated_rates)\n",
    "MimiIWG.run_scc_mcs(FUND, trials=N, domestic=true, discount_rates=updated_rates)\n",
    "MimiIWG.run_scc_mcs(PAGE, trials=N, domestic=true, discount_rates=updated_rates)"
   ]
  }
 ],
 "metadata": {
  "kernelspec": {
   "display_name": "Julia 1.1.0",
   "language": "julia",
   "name": "julia-1.1"
  },
  "language_info": {
   "file_extension": ".jl",
   "mimetype": "application/julia",
   "name": "julia",
   "version": "1.1.0"
  }
 },
 "nbformat": 4,
 "nbformat_minor": 2
}
