{
 "cells": [
  {
   "cell_type": "code",
   "execution_count": 1,
   "metadata": {},
   "outputs": [
    {
     "ename": "ArgumentError",
     "evalue": "ArgumentError: Package MimiIWG not found in current path:\n- Run `import Pkg; Pkg.add(\"MimiIWG\")` to install the MimiIWG package.\n",
     "output_type": "error",
     "traceback": [
      "ArgumentError: Package MimiIWG not found in current path:\n- Run `import Pkg; Pkg.add(\"MimiIWG\")` to install the MimiIWG package.\n",
      "",
      "Stacktrace:",
      " [1] require(::Module, ::Symbol) at .\\loading.jl:823",
      " [2] top-level scope at In[1]:1"
     ]
    }
   ],
   "source": [
    "using MimiIWG"
   ]
  },
  {
   "cell_type": "markdown",
   "metadata": {},
   "source": [
    "# Get a model \n",
    "You must specifiy which model and which scenario:\n",
    "- choices of model are DICE, FUND, and PAGE\n",
    "- choices of scenario are USG1, USG2, USG3, USG4, and USG5"
   ]
  },
  {
   "cell_type": "code",
   "execution_count": null,
   "metadata": {},
   "outputs": [],
   "source": [
    "m = MimiIWG.get_model(DICE, USG2)\n",
    "run(m)\n",
    "explore(m)"
   ]
  },
  {
   "cell_type": "markdown",
   "metadata": {},
   "source": [
    "# Get marginal damages vector from a pulse of emissions"
   ]
  },
  {
   "cell_type": "code",
   "execution_count": null,
   "metadata": {},
   "outputs": [],
   "source": [
    "md = MimiIWG.get_marginaldamages(FUND, USG3, year = 2020, discount = 0.025)"
   ]
  },
  {
   "cell_type": "markdown",
   "metadata": {},
   "source": [
    "# Calculate a deterministic SCC value"
   ]
  },
  {
   "cell_type": "code",
   "execution_count": null,
   "metadata": {},
   "outputs": [],
   "source": [
    "scc = MimiIWG.compute_scc(PAGE, USG1, year = 2020, discount = 0.03)"
   ]
  }
 ],
 "metadata": {
  "kernelspec": {
   "display_name": "Julia 1.1.0",
   "language": "julia",
   "name": "julia-1.1"
  },
  "language_info": {
   "file_extension": ".jl",
   "mimetype": "application/julia",
   "name": "julia",
   "version": "1.1.0"
  }
 },
 "nbformat": 4,
 "nbformat_minor": 2
}
