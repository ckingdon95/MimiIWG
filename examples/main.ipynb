{
 "cells": [
  {
   "cell_type": "markdown",
   "metadata": {},
   "source": [
    "# Run the IWG SCC Monte Carlo simulations\n",
    "- For each model, run across all five socioeconomic scenarios \n",
    "- SCC is calculated for years 2010:5:2050 and discount rates of 2.5%, 3%, and 5%"
   ]
  },
  {
   "cell_type": "code",
   "execution_count": 1,
   "metadata": {},
   "outputs": [
    {
     "ename": "ArgumentError",
     "evalue": "ArgumentError: Package MimiIWG not found in current path:\n- Run `import Pkg; Pkg.add(\"MimiIWG\")` to install the MimiIWG package.\n",
     "output_type": "error",
     "traceback": [
      "ArgumentError: Package MimiIWG not found in current path:\n- Run `import Pkg; Pkg.add(\"MimiIWG\")` to install the MimiIWG package.\n",
      "",
      "Stacktrace:",
      " [1] require(::Module, ::Symbol) at .\\loading.jl:823",
      " [2] top-level scope at In[1]:1"
     ]
    }
   ],
   "source": [
    "using MimiIWG"
   ]
  },
  {
   "cell_type": "code",
   "execution_count": 2,
   "metadata": {},
   "outputs": [
    {
     "data": {
      "text/plain": [
       "10000"
      ]
     },
     "execution_count": 2,
     "metadata": {},
     "output_type": "execute_result"
    }
   ],
   "source": [
    "N = 10000\n",
    "MimiIWG.run_scc_mcs(DICE, trials=N)\n",
    "MimiIWG.run_scc_mcs(FUND, trials=N)\n",
    "MimiIWG.run_scc_mcs(PAGE, trials=N)"
   ]
  }
 ],
 "metadata": {
  "kernelspec": {
   "display_name": "Julia 1.1.0",
   "language": "julia",
   "name": "julia-1.1"
  },
  "language_info": {
   "file_extension": ".jl",
   "mimetype": "application/julia",
   "name": "julia",
   "version": "1.1.0"
  }
 },
 "nbformat": 4,
 "nbformat_minor": 2
}
