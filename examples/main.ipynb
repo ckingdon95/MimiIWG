{
 "cells": [
  {
   "cell_type": "markdown",
   "metadata": {},
   "source": [
    "# Run the IWG SCC Monte Carlo simulations\n",
    "- For each model, run across all five socioeconomic scenarios \n",
    "- SCC is calculated for years 2010:5:2050 and discount rates of 2.5%, 3%, and 5%"
   ]
  },
  {
   "cell_type": "code",
   "execution_count": 1,
   "metadata": {},
   "outputs": [],
   "source": [
    "using MimiIWG"
   ]
  },
  {
   "cell_type": "code",
   "execution_count": null,
   "metadata": {},
   "outputs": [],
   "source": [
    "N = 10000\n",
    "MimiIWG.run_scc_mcs(DICE, gas=:CO2, trials=N)\n",
    "MimiIWG.run_scc_mcs(FUND, gas=:CO2, trials=N)\n",
    "MimiIWG.run_scc_mcs(PAGE, gas=:CO2, trials=N)"
   ]
  }
 ],
 "metadata": {
  "kernelspec": {
   "display_name": "Julia 1.5.3",
   "language": "julia",
   "name": "julia-1.5"
  },
  "language_info": {
   "file_extension": ".jl",
   "mimetype": "application/julia",
   "name": "julia",
   "version": "1.5.3"
  }
 },
 "nbformat": 4,
 "nbformat_minor": 4
}
